{
 "cells": [
  {
   "cell_type": "code",
   "execution_count": 2,
   "id": "26c0ff42-3a3d-4c0d-b788-6578bad957ca",
   "metadata": {},
   "outputs": [],
   "source": [
    "def f(b):\n",
    "    return b**2"
   ]
  },
  {
   "cell_type": "code",
   "execution_count": 3,
   "id": "022c2447-7ac5-4bb7-b4ea-c66e55202dd7",
   "metadata": {},
   "outputs": [
    {
     "data": {
      "text/plain": [
       "25"
      ]
     },
     "execution_count": 3,
     "metadata": {},
     "output_type": "execute_result"
    }
   ],
   "source": [
    "f(5)"
   ]
  },
  {
   "cell_type": "code",
   "execution_count": null,
   "id": "09a8037a-ca77-4d6e-9a4c-65874e4786a7",
   "metadata": {},
   "outputs": [],
   "source": []
  },
  {
   "cell_type": "code",
   "execution_count": null,
   "id": "41f51bc1-3445-479d-8113-793591a956a3",
   "metadata": {},
   "outputs": [],
   "source": []
  },
  {
   "cell_type": "code",
   "execution_count": null,
   "id": "59bde6c9-bddb-45ee-a3cc-eb58ca23d0d9",
   "metadata": {},
   "outputs": [],
   "source": []
  },
  {
   "cell_type": "code",
   "execution_count": null,
   "id": "fb874e4d-aadb-464c-bb6e-867db8e217d6",
   "metadata": {},
   "outputs": [],
   "source": []
  }
 ],
 "metadata": {
  "kernelspec": {
   "display_name": "Python 3 (ipykernel)",
   "language": "python",
   "name": "python3"
  },
  "language_info": {
   "codemirror_mode": {
    "name": "ipython",
    "version": 3
   },
   "file_extension": ".py",
   "mimetype": "text/x-python",
   "name": "python",
   "nbconvert_exporter": "python",
   "pygments_lexer": "ipython3",
   "version": "3.9.1"
  }
 },
 "nbformat": 4,
 "nbformat_minor": 5
}
